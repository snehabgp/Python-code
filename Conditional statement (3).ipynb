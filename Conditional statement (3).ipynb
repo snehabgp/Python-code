{
 "cells": [
  {
   "cell_type": "markdown",
   "id": "c49650e8",
   "metadata": {},
   "source": [
    "# 1.Write a program to check whether a given number is even or odd."
   ]
  },
  {
   "cell_type": "code",
   "execution_count": 2,
   "id": "1884f865",
   "metadata": {},
   "outputs": [
    {
     "name": "stdout",
     "output_type": "stream",
     "text": [
      "enter the number55\n",
      "number is odd\n"
     ]
    }
   ],
   "source": [
    "number=int(input('enter the number'))\n",
    "if (number%2)==0:\n",
    "    print(\"number is even\")\n",
    "else:\n",
    "    print(\"number is odd\")"
   ]
  },
  {
   "cell_type": "code",
   "execution_count": 3,
   "id": "99a527d3",
   "metadata": {
    "scrolled": true
   },
   "outputs": [
    {
     "name": "stdout",
     "output_type": "stream",
     "text": [
      "enter the number78\n",
      "number is even\n"
     ]
    }
   ],
   "source": [
    "number=int(input('enter the number'))\n",
    "if (number%2)==0:\n",
    "    print(\"number is even\")\n",
    "else:\n",
    "    print(\"number is odd\")"
   ]
  },
  {
   "cell_type": "markdown",
   "id": "ec34e670",
   "metadata": {},
   "source": [
    "# 2.Write a program to check whether an alphabet is a vowel or consonant."
   ]
  },
  {
   "cell_type": "code",
   "execution_count": 6,
   "id": "d05f3d16",
   "metadata": {},
   "outputs": [
    {
     "name": "stdout",
     "output_type": "stream",
     "text": [
      "enter the alphabet:e\n",
      "alphabet is not vowel\n"
     ]
    }
   ],
   "source": [
    "m=input(\"enter the alphabet:\")\n",
    "if m==(\"a\",\"e\",\"i\",\"o\",\"u\"):\n",
    "    print(\"alphabet is vowel\")\n",
    "else:\n",
    "    print(\"alphabet is not vowel\")"
   ]
  },
  {
   "cell_type": "code",
   "execution_count": 3,
   "id": "11408772",
   "metadata": {},
   "outputs": [
    {
     "name": "stdout",
     "output_type": "stream",
     "text": [
      "enter the alphabet:d\n",
      "alphabet is not vowel\n"
     ]
    }
   ],
   "source": [
    "m=input(\"enter the alphabet:\")\n",
    "if m==(\"a\",\"e\",\"i\",\"o\",\"u\"):\n",
    "    print(\"alphabet is vowel\")\n",
    "else:\n",
    "    print(\"alphabet is not vowel\")"
   ]
  },
  {
   "cell_type": "markdown",
   "id": "012f28f4",
   "metadata": {},
   "source": [
    "# 3.Write a program to check whether a person is eligible to vote or not."
   ]
  },
  {
   "cell_type": "code",
   "execution_count": 7,
   "id": "09b23b1b",
   "metadata": {},
   "outputs": [
    {
     "name": "stdout",
     "output_type": "stream",
     "text": [
      "enter the age55\n",
      "eligible to vote\n"
     ]
    }
   ],
   "source": [
    "age=int(input(\"enter the age\"))\n",
    "if(age>=18):\n",
    "    print(\"eligible to vote\")\n",
    "else:\n",
    "    print(\"eligible to not vote\")"
   ]
  },
  {
   "cell_type": "code",
   "execution_count": 9,
   "id": "241391e5",
   "metadata": {},
   "outputs": [
    {
     "name": "stdout",
     "output_type": "stream",
     "text": [
      "enter the age17\n",
      "eligible to not vote\n"
     ]
    }
   ],
   "source": [
    "age=int(input(\"enter the age\"))\n",
    "if(age>=18):\n",
    "    print(\"eligible to vote\")\n",
    "else:\n",
    "    print(\"eligible to not vote\")"
   ]
  },
  {
   "cell_type": "markdown",
   "id": "314f00d4",
   "metadata": {},
   "source": [
    "# 4.Write a program to check whether a given number is positive,negetive or zero."
   ]
  },
  {
   "cell_type": "code",
   "execution_count": 10,
   "id": "67793664",
   "metadata": {},
   "outputs": [
    {
     "name": "stdout",
     "output_type": "stream",
     "text": [
      "enter the number5\n",
      "positive number\n"
     ]
    }
   ],
   "source": [
    "n=int(input(\"enter the number\"))\n",
    "if(n>0):\n",
    "    print(\"positive number\")\n",
    "elif n==0:\n",
    "    print(\"zero\")\n",
    "else:\n",
    "    print(\"negetive number\")\n"
   ]
  },
  {
   "cell_type": "code",
   "execution_count": 11,
   "id": "b0881bb0",
   "metadata": {},
   "outputs": [
    {
     "name": "stdout",
     "output_type": "stream",
     "text": [
      "enter the number0\n",
      "zero\n"
     ]
    }
   ],
   "source": [
    "n=int(input(\"enter the number\"))\n",
    "if(n>0):\n",
    "    print(\"positive number\")\n",
    "elif n==0:\n",
    "    print(\"zero\")\n",
    "else:\n",
    "    print(\"negetive number\")\n"
   ]
  },
  {
   "cell_type": "code",
   "execution_count": 12,
   "id": "b6a9cc92",
   "metadata": {},
   "outputs": [
    {
     "name": "stdout",
     "output_type": "stream",
     "text": [
      "enter the number-8\n",
      "negetive number\n"
     ]
    }
   ],
   "source": [
    "n=int(input(\"enter the number\"))\n",
    "if(n>0):\n",
    "    print(\"positive number\")\n",
    "elif n==0:\n",
    "    print(\"zero\")\n",
    "else:\n",
    "    print(\"negetive number\")\n"
   ]
  },
  {
   "cell_type": "markdown",
   "id": "9f44d428",
   "metadata": {},
   "source": [
    "# 5.Write a program to check whether a given year is leap or not."
   ]
  },
  {
   "cell_type": "code",
   "execution_count": 13,
   "id": "188a9f26",
   "metadata": {},
   "outputs": [
    {
     "name": "stdout",
     "output_type": "stream",
     "text": [
      "enter the year1982\n",
      "year is not leap\n"
     ]
    }
   ],
   "source": [
    "year=int(input(\"enter the year\"))\n",
    "if (year%400==0and year%100==0):\n",
    "    print(\"year is leap\")\n",
    "else:\n",
    "    print(\"year is not leap\")"
   ]
  },
  {
   "cell_type": "code",
   "execution_count": 14,
   "id": "9bd2976d",
   "metadata": {},
   "outputs": [
    {
     "name": "stdout",
     "output_type": "stream",
     "text": [
      "enter the year2000\n",
      "year is leap\n"
     ]
    }
   ],
   "source": [
    "year=int(input(\"enter the year\"))\n",
    "if (year%400==0and year%100==0):\n",
    "    print(\"year is leap\")\n",
    "else:\n",
    "    print(\"year is not leap\")"
   ]
  },
  {
   "cell_type": "markdown",
   "id": "a058920e",
   "metadata": {},
   "source": [
    "# 6.Write a program to check a traingle is equilateral,isosceles or scalence."
   ]
  },
  {
   "cell_type": "code",
   "execution_count": 8,
   "id": "7f8f56f5",
   "metadata": {},
   "outputs": [
    {
     "name": "stdout",
     "output_type": "stream",
     "text": [
      "enter first side45\n",
      "enter second side45\n",
      "enter third side45\n",
      "equilateral triangle\n"
     ]
    }
   ],
   "source": [
    "a=int(input('enter first side'))\n",
    "b=int(input('enter second side'))\n",
    "c=int(input('enter third side'))\n",
    "if a==b==c:\n",
    "    print('equilateral triangle')\n",
    "elif a==b!=c:\n",
    "    print('isosceles')\n",
    "else: \n",
    "    print('scalence')\n",
    "    "
   ]
  },
  {
   "cell_type": "code",
   "execution_count": 9,
   "id": "9d68aab0",
   "metadata": {},
   "outputs": [
    {
     "name": "stdout",
     "output_type": "stream",
     "text": [
      "enter first side60\n",
      "enter second side60\n",
      "enter third side45\n",
      "isosceles\n"
     ]
    }
   ],
   "source": [
    "a=int(input('enter first side'))\n",
    "b=int(input('enter second side'))\n",
    "c=int(input('enter third side'))\n",
    "if a==b==c:\n",
    "    print('equilateral triangle')\n",
    "elif a==b!=c:\n",
    "    print('isosceles')\n",
    "else: \n",
    "    print('scalence')\n",
    "    \n"
   ]
  },
  {
   "cell_type": "code",
   "execution_count": 6,
   "id": "e859209a",
   "metadata": {},
   "outputs": [
    {
     "name": "stdout",
     "output_type": "stream",
     "text": [
      "enter first side60\n",
      "enter second side45\n",
      "enter third side55\n",
      "scalence\n"
     ]
    }
   ],
   "source": [
    "a=int(input('enter first side'))\n",
    "b=int(input('enter second side'))\n",
    "c=int(input('enter third side'))\n",
    "if a==b==c:\n",
    "    print('equilateral triangle')\n",
    "elif a==b!=c:\n",
    "    print('isosceles')\n",
    "else: \n",
    "    print('scalence')\n",
    "    \n"
   ]
  },
  {
   "cell_type": "markdown",
   "id": "834ac762",
   "metadata": {},
   "source": [
    "# Write a program to check whether after selling a product its profit or loss."
   ]
  },
  {
   "cell_type": "code",
   "execution_count": 1,
   "id": "5e731c83",
   "metadata": {},
   "outputs": [
    {
     "name": "stdout",
     "output_type": "stream",
     "text": [
      "enter the CP1200\n",
      "enter the sp1000\n",
      "profit\n"
     ]
    }
   ],
   "source": [
    "a=int(input('enter the CP'))\n",
    "b=int(input('enter the sp'))\n",
    "if a>b:\n",
    "    print('profit')\n",
    "else:\n",
    "    print('loss')"
   ]
  },
  {
   "cell_type": "code",
   "execution_count": 5,
   "id": "18b8b8fb",
   "metadata": {},
   "outputs": [
    {
     "name": "stdout",
     "output_type": "stream",
     "text": [
      "enter the CP2000\n",
      "enter the sp2500\n",
      "loss\n"
     ]
    }
   ],
   "source": [
    "a=int(input('enter the CP'))\n",
    "b=int(input('enter the sp'))\n",
    "if a>b:\n",
    "    print('profit')\n",
    "else:\n",
    "    print('loss')"
   ]
  },
  {
   "cell_type": "markdown",
   "id": "f476c543",
   "metadata": {},
   "source": [
    "# Write a program to enter two numbers and print the greatest number."
   ]
  },
  {
   "cell_type": "code",
   "execution_count": 1,
   "id": "97c61924",
   "metadata": {},
   "outputs": [
    {
     "name": "stdout",
     "output_type": "stream",
     "text": [
      "enter the first number66\n",
      "enter the second number55\n",
      "66 is the greatest number\n"
     ]
    }
   ],
   "source": [
    "n=int(input('enter the first number'))\n",
    "m=int(input('enter the second number'))\n",
    "if n>m:\n",
    "    print(n,'is the greatest number')\n",
    "else:\n",
    "    print(m,'is the greastest number')"
   ]
  },
  {
   "cell_type": "markdown",
   "id": "e279bd6d",
   "metadata": {},
   "source": [
    "# Write a program to enter two numbers and print the greatest number."
   ]
  },
  {
   "cell_type": "code",
   "execution_count": 3,
   "id": "91016bd5",
   "metadata": {},
   "outputs": [
    {
     "name": "stdout",
     "output_type": "stream",
     "text": [
      "enter the first number66\n",
      "enter the second number45\n",
      "45 is the smallest number\n"
     ]
    }
   ],
   "source": [
    "n=int(input('enter the first number'))\n",
    "m=int(input('enter the second number'))\n",
    "if n<m:\n",
    "    print(n,'is the smallest  number')\n",
    "else:\n",
    "    print(m,'is the smallest number')"
   ]
  },
  {
   "cell_type": "markdown",
   "id": "6676ed09",
   "metadata": {},
   "source": [
    "# Write a program to enter three numbers and print the greatest number."
   ]
  },
  {
   "cell_type": "code",
   "execution_count": 4,
   "id": "9e318957",
   "metadata": {},
   "outputs": [
    {
     "name": "stdout",
     "output_type": "stream",
     "text": [
      "enter the first number89\n",
      "enter the second number98\n",
      "enter the third number90\n",
      "98 greastest number\n"
     ]
    }
   ],
   "source": [
    "n=int(input('enter the first number'))\n",
    "m=int(input('enter the second number'))\n",
    "o=int(input('enter the third number'))\n",
    "if n>m:\n",
    "    print(n,'greatest number')\n",
    "elif m>n:\n",
    "    print(m,'greastest number')\n",
    "else:\n",
    "    print(o,'greastest number')"
   ]
  },
  {
   "cell_type": "markdown",
   "id": "c41be2a4",
   "metadata": {},
   "source": [
    "# Write a program to enter three numbers and print the greatest number."
   ]
  },
  {
   "cell_type": "code",
   "execution_count": 5,
   "id": "63830574",
   "metadata": {},
   "outputs": [
    {
     "name": "stdout",
     "output_type": "stream",
     "text": [
      "enter the first number67\n",
      "enter the second number34\n",
      "enter the third number75\n",
      "34 smallest number\n"
     ]
    }
   ],
   "source": [
    "n=int(input('enter the first number'))\n",
    "m=int(input('enter the second number'))\n",
    "o=int(input('enter the third number'))\n",
    "if n<m:\n",
    "    print(n,'smallest number')\n",
    "elif m<n:\n",
    "    print(m,'smallest number')\n",
    "else:\n",
    "    print(o,'smallest number')"
   ]
  },
  {
   "cell_type": "markdown",
   "id": "a0e5320f",
   "metadata": {},
   "source": [
    "# Write a program to calculate the roots of quadratic equation."
   ]
  },
  {
   "cell_type": "code",
   "execution_count": 10,
   "id": "29dc986a",
   "metadata": {},
   "outputs": [
    {
     "name": "stdout",
     "output_type": "stream",
     "text": [
      "enter the value of a3\n",
      "enter the value of b8\n",
      "enter the value of c3\n",
      "root1 of quadratic equation= (-0.06274606680622785+0j)\n",
      "root2 of quadratic equation= (-15.937253933193773+0j)\n"
     ]
    }
   ],
   "source": [
    "import cmath \n",
    "a=float(input('enter the value of a'))\n",
    "b=float(input('enter the value of b'))\n",
    "c=float(input('enter the value of c'))\n",
    "dis=(b**2)-4*a*c #dis=discriminant\n",
    "if dis>0:\n",
    "    root1=(-b+cmath.sqrt(dis)/2*a)\n",
    "    root2=(-b-cmath.sqrt(dis)/2*a)\n",
    "    print('root1 of quadratic equation=',root1)\n",
    "    print('root2 of quadratic equation=',root2)"
   ]
  },
  {
   "cell_type": "markdown",
   "id": "f1e4e826",
   "metadata": {},
   "source": [
    "# Write a program  to enter a number between(1-7) and print the respective day of the week."
   ]
  },
  {
   "cell_type": "code",
   "execution_count": 1,
   "id": "ea7ed336",
   "metadata": {},
   "outputs": [
    {
     "name": "stdout",
     "output_type": "stream",
     "text": [
      "enter a number to print the name of the week5\n",
      "Friday\n"
     ]
    }
   ],
   "source": [
    "a=int(input(\"enter a number to print the name of the week\"))\n",
    "if a==1:\n",
    "    print(\"Monday\")\n",
    "elif a==2:\n",
    "    print(\"Tuesday\")\n",
    "elif a==3:\n",
    "    print(\"Wednesday\")\n",
    "elif a==4:\n",
    "    print(\"Thursday\")\n",
    "elif a==5:\n",
    "    print(\"Friday\")\n",
    "elif a==6:\n",
    "    print(\"Saturday\")\n",
    "else:\n",
    "    print(\"Sunday\")\n",
    "    \n",
    "    "
   ]
  },
  {
   "cell_type": "markdown",
   "id": "b8cfeb99",
   "metadata": {},
   "source": [
    "# Write a program to enter a number between (1-12) and print the respective month."
   ]
  },
  {
   "cell_type": "code",
   "execution_count": null,
   "id": "08b34912",
   "metadata": {},
   "outputs": [],
   "source": [
    "a=int(input(\"enter a number to print the name of the month\"))\n",
    "if a==1:\n",
    "    print(\"January\")\n",
    "elif a==2:\n",
    "    print(\"February\")\n",
    "elif a==3:\n",
    "    print(\"March\")\n",
    "elif a==4:\n",
    "    print(\"April\")\n",
    "elif a==5:\n",
    "    print(\"May\")\n",
    "elif a==6:\n",
    "    print(\"June\")\n",
    "elif a==7:\n",
    "    print(\"July\")\n",
    "elif a==8:\n",
    "    print(\"August\")\n",
    "elif a==9:\n",
    "    print(\"September\")\n",
    "elif a==10:\n",
    "    print(\"October\")\n",
    "elif a==11:\n",
    "    print(\"November\")\n",
    "else:\n",
    "    print(\"December\")"
   ]
  },
  {
   "cell_type": "markdown",
   "id": "fceca62c",
   "metadata": {},
   "source": [
    "# Write a program to enter a number between (1-4) and perform the following operations.\n"
   ]
  },
  {
   "cell_type": "code",
   "execution_count": 5,
   "id": "d716c6a5",
   "metadata": {},
   "outputs": [
    {
     "name": "stdout",
     "output_type": "stream",
     "text": [
      "enter number between 1 to 4=3\n",
      "enter the first number4\n",
      "enter the second number8\n",
      "multiplication of two numbers= 32\n"
     ]
    }
   ],
   "source": [
    "num=int(input(\"enter number between 1 to 4=\"))\n",
    "a=int(input(\"enter the first number\"))\n",
    "b=int(input(\"enter the second number\"))\n",
    "if num==1:\n",
    "    c=a+b\n",
    "    print(\"Addition of two numbers=\",c)\n",
    "elif num==2:\n",
    "    d=a-b\n",
    "    print(\"subtraction of two numbers=\",d)\n",
    "elif num==3:\n",
    "    m=a*b\n",
    "    print(\"multiplication of two numbers=\",m)\n",
    "elif num==4:\n",
    "    n=a/b\n",
    "    print(\"division of two numbers=\",n)\n",
    "else:\n",
    "    print(\"error\")\n",
    "      \n"
   ]
  },
  {
   "cell_type": "code",
   "execution_count": 6,
   "id": "19fd109e",
   "metadata": {},
   "outputs": [
    {
     "name": "stdout",
     "output_type": "stream",
     "text": [
      "enter number between 1 to 4=5\n",
      "enter the first number4\n",
      "enter the second number6\n",
      "error\n"
     ]
    }
   ],
   "source": [
    "num=int(input(\"enter number between 1 to 4=\"))\n",
    "a=int(input(\"enter the first number\"))\n",
    "b=int(input(\"enter the second number\"))\n",
    "if num==1:\n",
    "    c=a+b\n",
    "    print(\"Addition of two numbers=\",c)\n",
    "elif num==2:\n",
    "    d=a-b\n",
    "    print(\"subtraction of two numbers=\",d)\n",
    "elif num==3:\n",
    "    m=a*b\n",
    "    print(\"multiplication of two numbers=\",m)\n",
    "elif num==4:\n",
    "    n=a/b\n",
    "    print(\"division of two numbers=\",n)\n",
    "else:\n",
    "    print(\"error\")\n",
    "      \n"
   ]
  },
  {
   "cell_type": "markdown",
   "id": "ef12f907",
   "metadata": {},
   "source": [
    "# Write a program to convert temperatures to and from celsius ,Fahrenheit."
   ]
  },
  {
   "cell_type": "code",
   "execution_count": 2,
   "id": "a5ab7b09",
   "metadata": {},
   "outputs": [
    {
     "name": "stdout",
     "output_type": "stream",
     "text": [
      "enter temperature in celsius 37.5\n",
      "Temperature in fahrenheit 99.5\n"
     ]
    }
   ],
   "source": [
    "celsius=float(input('enter temperature in celsius '))\n",
    "fahrenheit =(celsius*1.8)+32\n",
    "print('Temperature in fahrenheit',fahrenheit)\n"
   ]
  },
  {
   "cell_type": "markdown",
   "id": "d93782c4",
   "metadata": {},
   "source": [
    "# A company decided to give bonus of 5% to employee if his/her year of service is more than 5 years.Ask user for their salary and year of service and print the net bonus amount.\n"
   ]
  },
  {
   "cell_type": "code",
   "execution_count": 3,
   "id": "dff564fb",
   "metadata": {},
   "outputs": [
    {
     "name": "stdout",
     "output_type": "stream",
     "text": [
      "enter the year of service7\n",
      "enter the salary55000\n",
      "bonus: 2750.0\n"
     ]
    }
   ],
   "source": [
    "year=int(input(\"enter the year of service\"))\n",
    "salary=int(input(\"enter the salary\"))\n",
    "bonus=5/100*salary\n",
    "if year>5:\n",
    "    print(\"bonus:\",bonus)\n",
    "else:\n",
    "    print(\"No bonus\")"
   ]
  },
  {
   "cell_type": "markdown",
   "id": "d100ad24",
   "metadata": {},
   "source": [
    "# Write a program to take input of length and breath of a rectangle from user and check if it is square or not."
   ]
  },
  {
   "cell_type": "code",
   "execution_count": 6,
   "id": "7719dcea",
   "metadata": {},
   "outputs": [
    {
     "name": "stdout",
     "output_type": "stream",
     "text": [
      "enter the length 15\n",
      "enter the breath 20\n",
      "It is not square\n"
     ]
    }
   ],
   "source": [
    "length=int(input(\"enter the length \"))\n",
    "breath=int(input(\"enter the breath \"))\n",
    "if length==breath:\n",
    "    print('It is square')\n",
    "else:\n",
    "    print('It is not square')\n"
   ]
  },
  {
   "cell_type": "code",
   "execution_count": 7,
   "id": "0b81700b",
   "metadata": {},
   "outputs": [
    {
     "name": "stdout",
     "output_type": "stream",
     "text": [
      "enter the length 20\n",
      "enter the breath 20\n",
      "It is square\n"
     ]
    }
   ],
   "source": [
    "length=int(input(\"enter the length \"))\n",
    "breath=int(input(\"enter the breath \"))\n",
    "if length==breath:\n",
    "    print('It is square')\n",
    "else:\n",
    "    print('It is not square')\n"
   ]
  },
  {
   "cell_type": "markdown",
   "id": "e28be033",
   "metadata": {},
   "source": [
    "# Take input of age of 3 people by user and determine oldest and youngest among them."
   ]
  },
  {
   "cell_type": "code",
   "execution_count": 9,
   "id": "1bc214ee",
   "metadata": {},
   "outputs": [
    {
     "name": "stdout",
     "output_type": "stream",
     "text": [
      "enter the age55\n",
      "enter the age89\n",
      "enter the age95\n",
      "oldest age is: 95\n",
      "youngest age is: 55\n"
     ]
    }
   ],
   "source": [
    "age1=int(input(\"enter the age\"))\n",
    "age2=int(input(\"enter the age\"))\n",
    "age3=int(input(\"enter the age\"))\n",
    "maxage=max(age1,age2,age3)\n",
    "minage=min(age1,age2,age3)\n",
    "print(\"oldest age is:\",maxage)\n",
    "print(\"youngest age is:\",minage)"
   ]
  },
  {
   "cell_type": "markdown",
   "id": "51ce5fa3",
   "metadata": {},
   "source": [
    "# A school has following rules for grading system.\n",
    "a.Below 25-F\n",
    "b.25 to 45-E\n",
    "c.45 to 50-D\n",
    "d.50 to 60-C\n",
    "E.60 to 80-B\n",
    "f.above 80-A\n"
   ]
  },
  {
   "cell_type": "code",
   "execution_count": 15,
   "id": "0fb979ba",
   "metadata": {},
   "outputs": [
    {
     "name": "stdout",
     "output_type": "stream",
     "text": [
      "enter the marks 75\n",
      "Grade B\n"
     ]
    }
   ],
   "source": [
    "a=int(input(\"enter the marks \"))\n",
    "if a<25:\n",
    "    print(\"Grade F\")\n",
    "elif a>=25 and a<45:\n",
    "    print(\"Grade E\")\n",
    "elif a>=45 and a<50:\n",
    "    print(\"Grade D\")\n",
    "elif a>=50 and a<60:\n",
    "    print(\"Grade C\")\n",
    "elif a>=60 and a<80:\n",
    "    print(\"Grade B\")\n",
    "else:\n",
    "    print(\"Grade A\")"
   ]
  },
  {
   "cell_type": "code",
   "execution_count": 16,
   "id": "344ec9e8",
   "metadata": {},
   "outputs": [
    {
     "name": "stdout",
     "output_type": "stream",
     "text": [
      "enter the marks 55\n",
      "Grade C\n"
     ]
    }
   ],
   "source": [
    "a=int(input(\"enter the marks \"))\n",
    "if a<25:\n",
    "    print(\"Grade F\")\n",
    "elif a>=25 and a<45:\n",
    "    print(\"Grade E\")\n",
    "elif a>=45 and a<50:\n",
    "    print(\"Grade D\")\n",
    "elif a>=50 and a<60:\n",
    "    print(\"Grade C\")\n",
    "elif a>=60 and a<80:\n",
    "    print(\"Grade B\")\n",
    "else:\n",
    "    print(\"Grade A\")"
   ]
  },
  {
   "cell_type": "code",
   "execution_count": null,
   "id": "8145694a",
   "metadata": {},
   "outputs": [],
   "source": []
  }
 ],
 "metadata": {
  "kernelspec": {
   "display_name": "Python 3 (ipykernel)",
   "language": "python",
   "name": "python3"
  },
  "language_info": {
   "codemirror_mode": {
    "name": "ipython",
    "version": 3
   },
   "file_extension": ".py",
   "mimetype": "text/x-python",
   "name": "python",
   "nbconvert_exporter": "python",
   "pygments_lexer": "ipython3",
   "version": "3.9.13"
  }
 },
 "nbformat": 4,
 "nbformat_minor": 5
}
