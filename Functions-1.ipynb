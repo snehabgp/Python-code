{
 "cells": [
  {
   "cell_type": "markdown",
   "id": "c0cbb8c9",
   "metadata": {},
   "source": [
    "# Write a function to find the max /min of three numbers."
   ]
  },
  {
   "cell_type": "code",
   "execution_count": 4,
   "id": "32c28fba",
   "metadata": {},
   "outputs": [
    {
     "name": "stdout",
     "output_type": "stream",
     "text": [
      "65\n"
     ]
    }
   ],
   "source": [
    "def maximum(*n):\n",
    "    if n:\n",
    "        mn=n[0]\n",
    "        for value in n[1:]:\n",
    "            if value>mn:\n",
    "                mn=value\n",
    "        print(mn)\n",
    "maximum(12,34,65) \n",
    "maximum()\n",
    "    "
   ]
  },
  {
   "cell_type": "code",
   "execution_count": 5,
   "id": "d9741b82",
   "metadata": {},
   "outputs": [
    {
     "name": "stdout",
     "output_type": "stream",
     "text": [
      "12\n"
     ]
    }
   ],
   "source": [
    "def minimum(*n):\n",
    "    if n:\n",
    "        mn=n[0]\n",
    "        for value in n[1:]:\n",
    "            if value<mn:\n",
    "                mn=value\n",
    "        print(mn)\n",
    "minimum(12,34,65) \n",
    "minimum()\n",
    "    "
   ]
  },
  {
   "cell_type": "markdown",
   "id": "1bbf234d",
   "metadata": {},
   "source": [
    "# Write a function to sum all the numbers in a list."
   ]
  },
  {
   "cell_type": "code",
   "execution_count": 7,
   "id": "6b96bb10",
   "metadata": {},
   "outputs": [],
   "source": [
    "def add(*args): \n",
    "    return sum(args)"
   ]
  },
  {
   "cell_type": "code",
   "execution_count": 8,
   "id": "0899e054",
   "metadata": {},
   "outputs": [
    {
     "name": "stdout",
     "output_type": "stream",
     "text": [
      "6\n",
      "109\n",
      "149\n"
     ]
    }
   ],
   "source": [
    "print(add(1,2,3))\n",
    "print(add(11,12,23,45,18))\n",
    "print(add(7,8,9,34,55,23,12,1))"
   ]
  },
  {
   "cell_type": "markdown",
   "id": "a5521638",
   "metadata": {},
   "source": [
    "# Write a function to multiply all numbers in a list."
   ]
  },
  {
   "cell_type": "code",
   "execution_count": 9,
   "id": "c04d8d24",
   "metadata": {},
   "outputs": [
    {
     "name": "stdout",
     "output_type": "stream",
     "text": [
      "15\n",
      "10\n",
      "20\n",
      "product is : 3000\n"
     ]
    }
   ],
   "source": [
    "def pro():\n",
    "    a=int(input())\n",
    "    b=int(input())\n",
    "    c=int(input())\n",
    "    print(\"product is :\",a*b*c)\n",
    "pro()    "
   ]
  },
  {
   "cell_type": "markdown",
   "id": "38ba2533",
   "metadata": {},
   "source": [
    "# write a function to reverse a string."
   ]
  },
  {
   "cell_type": "code",
   "execution_count": 2,
   "id": "9917e599",
   "metadata": {},
   "outputs": [],
   "source": [
    "def reverse_string(string):\n",
    "    reversed_string=''.join(reversed(string))\n",
    "    return reversed_string"
   ]
  },
  {
   "cell_type": "code",
   "execution_count": 3,
   "id": "142754ee",
   "metadata": {},
   "outputs": [
    {
     "name": "stdout",
     "output_type": "stream",
     "text": [
      "dlrow olleH\n"
     ]
    }
   ],
   "source": [
    "string='Hello world'\n",
    "reversed_string=reverse_string(string)\n",
    "print(reversed_string)"
   ]
  },
  {
   "cell_type": "markdown",
   "id": "a7574230",
   "metadata": {},
   "source": [
    "# write a function to calculate the factorial of a number."
   ]
  },
  {
   "cell_type": "code",
   "execution_count": 7,
   "id": "57349ca5",
   "metadata": {},
   "outputs": [
    {
     "name": "stdout",
     "output_type": "stream",
     "text": [
      "enter the number5\n",
      "120\n"
     ]
    }
   ],
   "source": [
    "def fact(x):\n",
    "    res=1\n",
    "    for i in range(1,x+1):\n",
    "        res=res*i\n",
    "    return res\n",
    "num=int(input(\"enter the number\"))\n",
    "print(fact(num))"
   ]
  },
  {
   "cell_type": "markdown",
   "id": "5d378969",
   "metadata": {},
   "source": [
    "# Write a function that accepts a string and calculate the number of upper case letters and lower case letters."
   ]
  },
  {
   "cell_type": "code",
   "execution_count": 5,
   "id": "88f8e3b3",
   "metadata": {},
   "outputs": [
    {
     "ename": "AttributeError",
     "evalue": "'function' object has no attribute 'upper'",
     "output_type": "error",
     "traceback": [
      "\u001b[1;31m---------------------------------------------------------------------------\u001b[0m",
      "\u001b[1;31mAttributeError\u001b[0m                            Traceback (most recent call last)",
      "\u001b[1;32m~\\AppData\\Local\\Temp\\ipykernel_8364\\314985513.py\u001b[0m in \u001b[0;36m<module>\u001b[1;34m\u001b[0m\n\u001b[0;32m      1\u001b[0m \u001b[1;32mdef\u001b[0m \u001b[0mmy_string\u001b[0m\u001b[1;33m(\u001b[0m\u001b[0mstring\u001b[0m\u001b[1;33m)\u001b[0m\u001b[1;33m:\u001b[0m\u001b[1;33m\u001b[0m\u001b[1;33m\u001b[0m\u001b[0m\n\u001b[0;32m      2\u001b[0m    \u001b[0mstring\u001b[0m\u001b[1;33m=\u001b[0m\u001b[1;34m'hello'\u001b[0m\u001b[1;33m\u001b[0m\u001b[1;33m\u001b[0m\u001b[0m\n\u001b[1;32m----> 3\u001b[1;33m \u001b[0mprint\u001b[0m\u001b[1;33m(\u001b[0m\u001b[0mmy_string\u001b[0m\u001b[1;33m.\u001b[0m\u001b[0mupper\u001b[0m\u001b[1;33m(\u001b[0m\u001b[1;33m)\u001b[0m\u001b[1;33m)\u001b[0m\u001b[1;33m\u001b[0m\u001b[1;33m\u001b[0m\u001b[0m\n\u001b[0m\u001b[0;32m      4\u001b[0m \u001b[0mprint\u001b[0m\u001b[1;33m(\u001b[0m\u001b[0mmy_string\u001b[0m\u001b[1;33m.\u001b[0m\u001b[0mlower\u001b[0m\u001b[1;33m(\u001b[0m\u001b[1;33m)\u001b[0m\u001b[1;33m)\u001b[0m\u001b[1;33m\u001b[0m\u001b[1;33m\u001b[0m\u001b[0m\n\u001b[0;32m      5\u001b[0m \u001b[0mmy_string\u001b[0m\u001b[1;33m(\u001b[0m\u001b[1;33m)\u001b[0m\u001b[1;33m\u001b[0m\u001b[1;33m\u001b[0m\u001b[0m\n",
      "\u001b[1;31mAttributeError\u001b[0m: 'function' object has no attribute 'upper'"
     ]
    }
   ],
   "source": [
    " def my_string(string):\n",
    "        a={'upper_case':0,'lower_case':0}\n",
    "        for c in string:\n",
    "            if c.isupper():\n",
    "                a['upper_case']+=1\n",
    "            elif c.islower() :\n",
    "                a['lower_case']+=1\n",
    "            else:\n",
    "                pass\n",
    "            print(f\"original string\",a)\n",
    "            print\n",
    "    \n"
   ]
  },
  {
   "cell_type": "markdown",
   "id": "4c1795f7",
   "metadata": {},
   "source": [
    "# Write a function that takes a list and return a new list with unique elements of the first list."
   ]
  },
  {
   "cell_type": "code",
   "execution_count": 3,
   "id": "8e85a5ca",
   "metadata": {},
   "outputs": [
    {
     "name": "stdout",
     "output_type": "stream",
     "text": [
      "[1, 2, 3, 4, 5, 6]\n"
     ]
    }
   ],
   "source": [
    "def ulist(num):\n",
    "    uq=[]\n",
    "    for item in num:\n",
    "        if item not in uq:\n",
    "            uq.append(item)\n",
    "    return uq\n",
    "print(ulist([1,2,3,4,5,6,1,2,5,3]))"
   ]
  }
 ],
 "metadata": {
  "kernelspec": {
   "display_name": "Python 3 (ipykernel)",
   "language": "python",
   "name": "python3"
  },
  "language_info": {
   "codemirror_mode": {
    "name": "ipython",
    "version": 3
   },
   "file_extension": ".py",
   "mimetype": "text/x-python",
   "name": "python",
   "nbconvert_exporter": "python",
   "pygments_lexer": "ipython3",
   "version": "3.9.13"
  }
 },
 "nbformat": 4,
 "nbformat_minor": 5
}
