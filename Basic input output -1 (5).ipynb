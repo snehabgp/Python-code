{
 "cells": [
  {
   "cell_type": "markdown",
   "id": "d0833fca",
   "metadata": {},
   "source": [
    "# Introduction"
   ]
  },
  {
   "cell_type": "code",
   "execution_count": 1,
   "id": "51afc247",
   "metadata": {},
   "outputs": [
    {
     "name": "stdout",
     "output_type": "stream",
     "text": [
      "Hello my name is Sneha kumari\n"
     ]
    }
   ],
   "source": [
    "a=\"Hello my name is Sneha kumari\"\n",
    "print(a)"
   ]
  },
  {
   "cell_type": "code",
   "execution_count": 6,
   "id": "e40f820e",
   "metadata": {},
   "outputs": [
    {
     "name": "stdout",
     "output_type": "stream",
     "text": [
      "I belongs to Bihar but currently live in pune \n"
     ]
    }
   ],
   "source": [
    "b=\"I belongs to Bihar but currently live in pune \"\n",
    "print(b)"
   ]
  },
  {
   "cell_type": "code",
   "execution_count": 7,
   "id": "814e367b",
   "metadata": {},
   "outputs": [
    {
     "name": "stdout",
     "output_type": "stream",
     "text": [
      "I am graduated from Bsc mathematics \n"
     ]
    }
   ],
   "source": [
    "c=\"I am graduated from Bsc mathematics \"\n",
    "print (c)"
   ]
  },
  {
   "cell_type": "code",
   "execution_count": 8,
   "id": "597907fc",
   "metadata": {},
   "outputs": [
    {
     "name": "stdout",
     "output_type": "stream",
     "text": [
      " Currently i am learning coding program with the help of Edubridge platform\n"
     ]
    }
   ],
   "source": [
    "d=\" Currently i am learning coding program with the help of Edubridge platform\"\n",
    "print(d)"
   ]
  },
  {
   "cell_type": "markdown",
   "id": "7043d4d4",
   "metadata": {},
   "source": [
    "# Addition"
   ]
  },
  {
   "cell_type": "code",
   "execution_count": 10,
   "id": "38736204",
   "metadata": {},
   "outputs": [
    {
     "name": "stdout",
     "output_type": "stream",
     "text": [
      "addition= 110\n"
     ]
    }
   ],
   "source": [
    "a=45\n",
    "b=65\n",
    "c=a+b\n",
    "print(\"addition=\",c)"
   ]
  },
  {
   "cell_type": "markdown",
   "id": "fd006c0d",
   "metadata": {},
   "source": [
    "# subtraction"
   ]
  },
  {
   "cell_type": "code",
   "execution_count": 11,
   "id": "435fe076",
   "metadata": {},
   "outputs": [
    {
     "name": "stdout",
     "output_type": "stream",
     "text": [
      "subtraction= 54\n"
     ]
    }
   ],
   "source": [
    "a=99\n",
    "b=45\n",
    "c=a-b\n",
    "print(\"subtraction=\",c)"
   ]
  },
  {
   "cell_type": "markdown",
   "id": "888b2833",
   "metadata": {},
   "source": [
    "# Multiplication"
   ]
  },
  {
   "cell_type": "code",
   "execution_count": 12,
   "id": "a003a415",
   "metadata": {},
   "outputs": [
    {
     "name": "stdout",
     "output_type": "stream",
     "text": [
      "multiplication= 1760\n"
     ]
    }
   ],
   "source": [
    "a=55\n",
    "b=32\n",
    "c=a*b\n",
    "print(\"multiplication=\",c)"
   ]
  },
  {
   "cell_type": "markdown",
   "id": "41e28602",
   "metadata": {},
   "source": [
    "# Division"
   ]
  },
  {
   "cell_type": "code",
   "execution_count": 15,
   "id": "9629e153",
   "metadata": {},
   "outputs": [
    {
     "name": "stdout",
     "output_type": "stream",
     "text": [
      "divide= 15.0\n"
     ]
    }
   ],
   "source": [
    "a=75\n",
    "b=5\n",
    "c=a/b\n",
    "print(\"divide=\",c)"
   ]
  },
  {
   "cell_type": "markdown",
   "id": "28ba24c7",
   "metadata": {},
   "source": [
    "# Floor division"
   ]
  },
  {
   "cell_type": "code",
   "execution_count": 16,
   "id": "70feb28e",
   "metadata": {},
   "outputs": [
    {
     "name": "stdout",
     "output_type": "stream",
     "text": [
      "floor divide 5\n"
     ]
    }
   ],
   "source": [
    "a=55\n",
    "b=10\n",
    "c=a//b\n",
    "print(\"floor divide\",c)"
   ]
  },
  {
   "cell_type": "markdown",
   "id": "8525e29e",
   "metadata": {},
   "source": [
    "# Exponent"
   ]
  },
  {
   "cell_type": "code",
   "execution_count": 17,
   "id": "54e2e972",
   "metadata": {},
   "outputs": [
    {
     "name": "stdout",
     "output_type": "stream",
     "text": [
      "power= 2401\n"
     ]
    }
   ],
   "source": [
    "a=7\n",
    "b=4\n",
    "c=a**b\n",
    "print(\"power=\",c)"
   ]
  },
  {
   "cell_type": "markdown",
   "id": "4ed2b698",
   "metadata": {},
   "source": [
    "# Modulus"
   ]
  },
  {
   "cell_type": "code",
   "execution_count": 1,
   "id": "1e7a2b72",
   "metadata": {},
   "outputs": [
    {
     "name": "stdout",
     "output_type": "stream",
     "text": [
      "reminder= 9\n"
     ]
    }
   ],
   "source": [
    "a=65\n",
    "b=7\n",
    "c=ab\n",
    "print(\"reminder=\",c)"
   ]
  },
  {
   "cell_type": "code",
   "execution_count": null,
   "id": "b2f05202",
   "metadata": {},
   "outputs": [],
   "source": []
  }
 ],
 "metadata": {
  "kernelspec": {
   "display_name": "Python 3 (ipykernel)",
   "language": "python",
   "name": "python3"
  },
  "language_info": {
   "codemirror_mode": {
    "name": "ipython",
    "version": 3
   },
   "file_extension": ".py",
   "mimetype": "text/x-python",
   "name": "python",
   "nbconvert_exporter": "python",
   "pygments_lexer": "ipython3",
   "version": "3.9.13"
  }
 },
 "nbformat": 4,
 "nbformat_minor": 5
}
